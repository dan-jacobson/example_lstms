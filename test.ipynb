{
 "cells": [
  {
   "cell_type": "code",
   "execution_count": 1,
   "metadata": {},
   "outputs": [],
   "source": [
    "import logging\n",
    "import numpy as np\n",
    "\n",
    "import torch\n",
    "import torch.nn as nn\n",
    "import torch.nn.functional as F\n",
    "from torch.distributions import Categorical"
   ]
  },
  {
   "cell_type": "code",
   "execution_count": 2,
   "metadata": {},
   "outputs": [],
   "source": [
    "logger = logging.getLogger(__name__)\n",
    "handler = logging.StreamHandler()\n",
    "handler.setLevel(logging.INFO)\n",
    "formatter = logging.Formatter('%asctime)s - %(name)s - %(levelname)s - %(message)s')\n",
    "handler.setFormatter(formatter)\n",
    "logger.addHandler(handler)\n",
    "\n",
    "logger.info('Test log message')"
   ]
  },
  {
   "cell_type": "code",
   "execution_count": 3,
   "metadata": {},
   "outputs": [],
   "source": [
    "def preprocess_data(txt_data_path: str) -> list[int]:\n",
    "    with open(txt_data_path, 'r') as f:\n",
    "        txt_data = f.read()\n",
    "\n",
    "    chars = list(set(txt_data))\n",
    "\n",
    "    num_chars = len(chars)\n",
    "    txt_data_size = (len(txt_data))\n",
    "\n",
    "    print(f'Input dataset length: {txt_data_size} \\t Unique characters: {num_chars}')\n",
    "    # logger.info(f'Input dataset length: {txt_data_size} \\t Unique characters: {num_chars}')\n",
    "\n",
    "    char_to_int = dict((c, i ) for i, c in enumerate(chars))\n",
    "    int_to_char = dict((v,k) for k,v in char_to_int.items())\n",
    "\n",
    "    #TODO logging\n",
    "\n",
    "    txt_data_encoded = [char_to_int[i] for i in txt_data]\n",
    "    return txt_data_encoded, txt_data_size, chars, num_chars"
   ]
  },
  {
   "cell_type": "code",
   "execution_count": 28,
   "metadata": {},
   "outputs": [
    {
     "name": "stdout",
     "output_type": "stream",
     "text": [
      "Input dataset length: 4573338 \t Unique characters: 67\n"
     ]
    }
   ],
   "source": [
    "data, data_size, chars, chars_size = preprocess_data(\"data/shakespeare_input.txt\")"
   ]
  },
  {
   "cell_type": "code",
   "execution_count": 5,
   "metadata": {},
   "outputs": [],
   "source": [
    "class RNN(nn.Module):\n",
    "    def __init__(self, input_size, output_size, hidden_size, num_layers):\n",
    "        super(RNN, self).__init__()\n",
    "        self.embedding = nn.Embedding(input_size, input_size)\n",
    "        self.rnn = nn.LSTM(input_size=input_size, hidden_size=hidden_size, num_layers=num_layers)\n",
    "        self.decoder = nn.Linear(hidden_size, output_size)\n",
    "\n",
    "    def forward(self, input_seq, hidden_state):\n",
    "        embed = self.embedding(input_seq)\n",
    "        output, hidden_state = self.rnn(embed, hidden_state)\n",
    "        output = self.decoder(output)\n",
    "        return output, (hidden_state[0].detach(), hidden_state[1].detach())"
   ]
  },
  {
   "cell_type": "code",
   "execution_count": 6,
   "metadata": {},
   "outputs": [
    {
     "name": "stdout",
     "output_type": "stream",
     "text": [
      "Device found: mps\n"
     ]
    }
   ],
   "source": [
    "hidden_size = 512 #config.hidden_size\n",
    "seq_len = 100 #config.seq_len\n",
    "num_layers = 3 #config.num_layers\n",
    "lr = 0.002 #config.lr\n",
    "epochs = 100 #config.epochs\n",
    "eval_sample_length = 200 #config.eval_sample_length\n",
    "load_chk = False #config.load_chk\n",
    "save_path = \".pretrained/test.pth\" #config.save_path\n",
    "data_path = \"data/shakespeare_input.txt\" #config.data_path\n",
    "device = torch.device(\"mps\" if torch.backends.mps.is_available() and torch.backends.mps.is_built() else \"cpu\") \n",
    "print(f'Device found: {device}')"
   ]
  },
  {
   "cell_type": "code",
   "execution_count": 7,
   "metadata": {},
   "outputs": [
    {
     "name": "stdout",
     "output_type": "stream",
     "text": [
      "Input dataset length: 4573338 \t Unique characters: 67\n"
     ]
    }
   ],
   "source": [
    "data, data_size, chars, chars_size = preprocess_data(data_path)\n",
    "\n",
    "# data tensor on device\n",
    "data = torch.tensor(data).to(device)\n",
    "data = torch.unsqueeze(data, dim=1)"
   ]
  },
  {
   "cell_type": "code",
   "execution_count": null,
   "metadata": {},
   "outputs": [],
   "source": []
  },
  {
   "cell_type": "code",
   "execution_count": 8,
   "metadata": {},
   "outputs": [],
   "source": [
    "rnn = RNN(chars_size, chars_size, hidden_size, num_layers).to(device)\n",
    "\n",
    "loss_fn = nn.CrossEntropyLoss()\n",
    "optimizer = torch.optim.Adam(rnn.parameters(), lr=lr)"
   ]
  },
  {
   "cell_type": "code",
   "execution_count": 10,
   "metadata": {},
   "outputs": [],
   "source": [
    "start_idx = np.random.randint(100)\n",
    "n = 0\n",
    "running_loss = 0\n",
    "hidden_state = None\n",
    "\n",
    "input_seq = data[start_idx : start_idx + seq_len]\n",
    "target_seq = data[start_idx + 1 : start_idx + seq_len + 1]"
   ]
  },
  {
   "cell_type": "code",
   "execution_count": 11,
   "metadata": {},
   "outputs": [],
   "source": [
    "output, hidden_state = rnn(input_seq, hidden_state)"
   ]
  },
  {
   "cell_type": "code",
   "execution_count": 22,
   "metadata": {},
   "outputs": [
    {
     "data": {
      "text/plain": [
       "tensor([-1.0571,  0.7263, -6.7040, -3.4512, -0.8408, -5.9098, -5.8185, -0.0410,\n",
       "         0.7861, -0.0268, -1.4102,  1.5347, -0.2554,  0.3503, -1.3698, -4.4935,\n",
       "        -0.1480, -5.5501,  0.5013, -1.7296, -2.6169,  0.0665, -1.7384, -0.3351,\n",
       "         0.7180,  1.3147, -6.5140, -2.1672, -6.7022,  1.2267, -1.0990, -3.7923,\n",
       "         0.8452, -2.4252, -0.1474, -0.5068, -6.6027,  0.7670, -6.3746, -3.4414,\n",
       "        -3.9210, -0.7353, -6.5947,  0.6785, -0.1872,  0.7637, -2.0007,  1.2866,\n",
       "        -3.7340, -4.4850, -2.9054, -7.1683, -3.6637, -1.8749, -4.0536, -4.0645,\n",
       "        -0.9814, -1.4169,  2.0271, -0.4198, -5.0288,  1.8017, -0.8093, -2.4910,\n",
       "        -1.9575, -1.9671, -1.8819], device='mps:0', grad_fn=<SqueezeBackward0>)"
      ]
     },
     "execution_count": 22,
     "metadata": {},
     "output_type": "execute_result"
    }
   ],
   "source": [
    "torch.squeeze(output[0])"
   ]
  },
  {
   "cell_type": "code",
   "execution_count": 23,
   "metadata": {},
   "outputs": [
    {
     "data": {
      "text/plain": [
       "tensor(56, device='mps:0')"
      ]
     },
     "execution_count": 23,
     "metadata": {},
     "output_type": "execute_result"
    }
   ],
   "source": [
    "torch.squeeze(target_seq[0])"
   ]
  },
  {
   "cell_type": "code",
   "execution_count": 13,
   "metadata": {},
   "outputs": [
    {
     "data": {
      "text/plain": [
       "torch.Size([100, 1, 67])"
      ]
     },
     "execution_count": 13,
     "metadata": {},
     "output_type": "execute_result"
    }
   ],
   "source": [
    "output.shape"
   ]
  },
  {
   "cell_type": "code",
   "execution_count": 15,
   "metadata": {},
   "outputs": [
    {
     "data": {
      "text/plain": [
       "torch.Size([100, 67])"
      ]
     },
     "execution_count": 15,
     "metadata": {},
     "output_type": "execute_result"
    }
   ],
   "source": [
    "torch.squeeze(output).shape"
   ]
  },
  {
   "cell_type": "code",
   "execution_count": 18,
   "metadata": {},
   "outputs": [
    {
     "data": {
      "text/plain": [
       "torch.Size([100])"
      ]
     },
     "execution_count": 18,
     "metadata": {},
     "output_type": "execute_result"
    }
   ],
   "source": [
    "torch.squeeze(target_seq).shape"
   ]
  },
  {
   "cell_type": "code",
   "execution_count": 19,
   "metadata": {},
   "outputs": [
    {
     "data": {
      "text/plain": [
       "tensor(3.6798, device='mps:0', grad_fn=<NllLossBackward0>)"
      ]
     },
     "execution_count": 19,
     "metadata": {},
     "output_type": "execute_result"
    }
   ],
   "source": [
    "loss_fn(torch.squeeze(output), torch.squeeze(target_seq))"
   ]
  },
  {
   "cell_type": "code",
   "execution_count": 16,
   "metadata": {},
   "outputs": [
    {
     "ename": "KeyboardInterrupt",
     "evalue": "",
     "output_type": "error",
     "traceback": [
      "\u001b[0;31m---------------------------------------------------------------------------\u001b[0m",
      "\u001b[0;31mKeyboardInterrupt\u001b[0m                         Traceback (most recent call last)",
      "Cell \u001b[0;32mIn [16], line 16\u001b[0m\n\u001b[1;32m     13\u001b[0m output, hidden_state \u001b[38;5;241m=\u001b[39m rnn(input_seq, hidden_state)\n\u001b[1;32m     15\u001b[0m loss \u001b[38;5;241m=\u001b[39m loss_fn(torch\u001b[38;5;241m.\u001b[39msqueeze(output), torch\u001b[38;5;241m.\u001b[39msqueeze(target_seq))\n\u001b[0;32m---> 16\u001b[0m running_loss \u001b[38;5;241m+\u001b[39m\u001b[38;5;241m=\u001b[39m \u001b[43mloss\u001b[49m\u001b[38;5;241;43m.\u001b[39;49m\u001b[43mitem\u001b[49m\u001b[43m(\u001b[49m\u001b[43m)\u001b[49m\n\u001b[1;32m     18\u001b[0m optimizer\u001b[38;5;241m.\u001b[39mzero_grad()\n\u001b[1;32m     19\u001b[0m loss\u001b[38;5;241m.\u001b[39mbackward()\n",
      "\u001b[0;31mKeyboardInterrupt\u001b[0m: "
     ]
    }
   ],
   "source": [
    "for i in range(1, epochs+1):\n",
    "\n",
    "        start_idx = np.random.randint(100)\n",
    "        n = 0\n",
    "        running_loss = 0\n",
    "        hidden_state = None\n",
    "\n",
    "        while True:\n",
    "            input_seq = data[start_idx : start_idx + seq_len]\n",
    "            target_seq = data[start_idx + 1 : start_idx + seq_len + 1]\n",
    "\n",
    "\n",
    "            output, hidden_state = rnn(input_seq, hidden_state)\n",
    "\n",
    "            loss = loss_fn(torch.squeeze(output), torch.squeeze(target_seq))\n",
    "            running_loss += loss.item()\n",
    "\n",
    "            optimizer.zero_grad()\n",
    "            loss.backward()\n",
    "            optimizer.step()\n",
    "\n",
    "            start_idx += seq_len\n",
    "            n += 1\n",
    "\n",
    "            if start_idx + seq_len +1 > data_size:\n",
    "                break"
   ]
  },
  {
   "cell_type": "code",
   "execution_count": null,
   "metadata": {},
   "outputs": [],
   "source": []
  },
  {
   "cell_type": "code",
   "execution_count": null,
   "metadata": {},
   "outputs": [],
   "source": []
  },
  {
   "cell_type": "code",
   "execution_count": 25,
   "metadata": {},
   "outputs": [],
   "source": [
    "def vectorized_stride(array, start, sub_window_size, stride_size):\n",
    "    time_steps = len(array) - start\n",
    "    max_time = time_steps - time_steps % stride_size\n",
    "    \n",
    "    sub_windows = (\n",
    "        start + \n",
    "        np.expand_dims(np.arange(sub_window_size), 0) +\n",
    "        np.expand_dims(np.arange(max_time), 0).T\n",
    "    )\n",
    "    \n",
    "    # Fancy indexing to select every V rows.\n",
    "    return array[sub_windows[::stride_size]]"
   ]
  },
  {
   "cell_type": "code",
   "execution_count": 26,
   "metadata": {},
   "outputs": [],
   "source": [
    "class TextDataset(torch.utils.data.Dataset):\n",
    "    def __init__(self, data, seq_length): \n",
    "        'Strides a window of seq_length across the text data from a random starting point'\n",
    "        self.start_idx = np.random.randint(100)\n",
    "        self.X = vectorized_stride(data, self.start_idx, seq_length, seq_length) \n",
    "        self.y = vectorized_stride(data, self.start_idx + 1, seq_length, seq_length)\n",
    "    def __len__(self):\n",
    "        'Denotes the total number of samples'\n",
    "        return len(self.X)\n",
    "    \n",
    "    def __getitem__(self, idx):\n",
    "        'Generates one sample of data'\n",
    "\n",
    "        return torch.tensor(self.X[idx]), torch.tensor(self.y[idx])\n",
    "    "
   ]
  },
  {
   "cell_type": "code",
   "execution_count": 75,
   "metadata": {},
   "outputs": [],
   "source": [
    "seq_length = 100\n",
    "dataset = TextDataset(np.array(data), seq_length)"
   ]
  },
  {
   "cell_type": "code",
   "execution_count": 76,
   "metadata": {},
   "outputs": [],
   "source": [
    "from torch.utils.data import DataLoader\n",
    "batch_size = 32\n",
    "loader = DataLoader(dataset,\n",
    "                    batch_size=batch_size,\n",
    "                    shuffle=True,\n",
    "                    pin_memory=True)"
   ]
  },
  {
   "cell_type": "code",
   "execution_count": 50,
   "metadata": {},
   "outputs": [
    {
     "data": {
      "text/plain": [
       "(torch.Size([1, 100]), torch.Size([1, 100]))"
      ]
     },
     "execution_count": 50,
     "metadata": {},
     "output_type": "execute_result"
    }
   ],
   "source": [
    "dataiter = iter(loader)\n",
    "X0, y0 = next(dataiter)\n",
    "X0.shape, y0.shape"
   ]
  },
  {
   "cell_type": "code",
   "execution_count": 51,
   "metadata": {},
   "outputs": [],
   "source": [
    "X0 = X0.to(device)\n",
    "y0 = y0.to(device)"
   ]
  },
  {
   "cell_type": "code",
   "execution_count": 52,
   "metadata": {},
   "outputs": [],
   "source": [
    "output, hidden_state = rnn(X0, None)\n"
   ]
  },
  {
   "cell_type": "code",
   "execution_count": 53,
   "metadata": {},
   "outputs": [
    {
     "data": {
      "text/plain": [
       "(torch.Size([100, 67]), torch.Size([100]))"
      ]
     },
     "execution_count": 53,
     "metadata": {},
     "output_type": "execute_result"
    }
   ],
   "source": [
    "torch.squeeze(output).shape, torch.squeeze(y0).shape"
   ]
  },
  {
   "cell_type": "code",
   "execution_count": 71,
   "metadata": {},
   "outputs": [
    {
     "ename": "SyntaxError",
     "evalue": "invalid syntax (662699743.py, line 1)",
     "output_type": "error",
     "traceback": [
      "\u001b[0;36m  Cell \u001b[0;32mIn [71], line 1\u001b[0;36m\u001b[0m\n\u001b[0;31m    loss_fn(output.reshape(:,67,100), y0)\u001b[0m\n\u001b[0m                           ^\u001b[0m\n\u001b[0;31mSyntaxError\u001b[0m\u001b[0;31m:\u001b[0m invalid syntax\n"
     ]
    }
   ],
   "source": [
    "loss_fn(output.reshape(67,100), y0)"
   ]
  },
  {
   "cell_type": "code",
   "execution_count": 77,
   "metadata": {},
   "outputs": [
    {
     "name": "stdout",
     "output_type": "stream",
     "text": [
      "0k sequences processed\n",
      "0k sequences processed\n"
     ]
    },
    {
     "ename": "RuntimeError",
     "evalue": "shape '[32, 67, 100]' is invalid for input of size 33500",
     "output_type": "error",
     "traceback": [
      "\u001b[0;31m---------------------------------------------------------------------------\u001b[0m",
      "\u001b[0;31mRuntimeError\u001b[0m                              Traceback (most recent call last)",
      "Cell \u001b[0;32mIn [77], line 10\u001b[0m\n\u001b[1;32m      7\u001b[0m X, y \u001b[38;5;241m=\u001b[39m X\u001b[38;5;241m.\u001b[39mto(device), y\u001b[38;5;241m.\u001b[39mto(device)\n\u001b[1;32m      8\u001b[0m output, hidden_state \u001b[38;5;241m=\u001b[39m rnn(X, hidden_state)\n\u001b[0;32m---> 10\u001b[0m loss \u001b[38;5;241m=\u001b[39m loss_fn(\u001b[43moutput\u001b[49m\u001b[38;5;241;43m.\u001b[39;49m\u001b[43mreshape\u001b[49m\u001b[43m(\u001b[49m\u001b[43mbatch_size\u001b[49m\u001b[43m,\u001b[49m\u001b[43mchars_size\u001b[49m\u001b[43m,\u001b[49m\u001b[43mseq_length\u001b[49m\u001b[43m)\u001b[49m, y) \n\u001b[1;32m     11\u001b[0m running_loss \u001b[38;5;241m+\u001b[39m\u001b[38;5;241m=\u001b[39m loss\u001b[38;5;241m.\u001b[39mitem()\n\u001b[1;32m     13\u001b[0m optimizer\u001b[38;5;241m.\u001b[39mzero_grad()\n",
      "\u001b[0;31mRuntimeError\u001b[0m: shape '[32, 67, 100]' is invalid for input of size 33500"
     ]
    }
   ],
   "source": [
    "for i in range(1, epochs+1):\n",
    "\n",
    "    running_loss = 0\n",
    "    hidden_state = None\n",
    "\n",
    "    for i, (X, y) in enumerate(loader):\n",
    "        X, y = X.to(device), y.to(device)\n",
    "        output, hidden_state = rnn(X, hidden_state)\n",
    "\n",
    "        loss = loss_fn(output.reshape(batch_size,chars_size,seq_length), y) \n",
    "        running_loss += loss.item()\n",
    "\n",
    "        optimizer.zero_grad()\n",
    "        loss.backward()\n",
    "        optimizer.step()\n",
    "\n",
    "        if i % 1000 == 0:\n",
    "            print(f'{int(i/1000)}000 sequences processed')\n",
    "\n",
    "        if start_idx + seq_len +1 > data_size:\n",
    "            break\n",
    "\n",
    "    print(f'Epoch: {i} \\t Loss: {running_loss/n:.8f}')\n",
    "    # logger.info(f'Epoch: {i} \\t Loss: {running_loss/n:.8f}')\n",
    "    # torch.save(rnn.state_dict(), save_path)"
   ]
  },
  {
   "cell_type": "code",
   "execution_count": null,
   "metadata": {},
   "outputs": [],
   "source": []
  }
 ],
 "metadata": {
  "kernelspec": {
   "display_name": "Python 3.10.6 ('lstm')",
   "language": "python",
   "name": "python3"
  },
  "language_info": {
   "codemirror_mode": {
    "name": "ipython",
    "version": 3
   },
   "file_extension": ".py",
   "mimetype": "text/x-python",
   "name": "python",
   "nbconvert_exporter": "python",
   "pygments_lexer": "ipython3",
   "version": "3.10.6"
  },
  "orig_nbformat": 4,
  "vscode": {
   "interpreter": {
    "hash": "184b9a477fe84860b7b7582f86f6e13cf780b1e3ebfb463794e4c1db42e96378"
   }
  }
 },
 "nbformat": 4,
 "nbformat_minor": 2
}
